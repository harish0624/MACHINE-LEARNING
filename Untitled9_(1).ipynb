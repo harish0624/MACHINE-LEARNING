{
  "cells": [
    {
      "cell_type": "code",
      "execution_count": 1,
      "id": "086ab4c5",
      "metadata": {
        "colab": {
          "base_uri": "https://localhost:8080/"
        },
        "id": "086ab4c5",
        "outputId": "6c745d59-50db-42a2-8fd2-02cdf9069c08"
      },
      "outputs": [
        {
          "output_type": "stream",
          "name": "stdout",
          "text": [
            "[1 2 3 4 5]\n"
          ]
        }
      ],
      "source": [
        "import numpy as np\n",
        "arr=np.array([1,2,3,4,5])\n",
        "print(arr)"
      ]
    },
    {
      "cell_type": "code",
      "execution_count": 2,
      "id": "0571451f",
      "metadata": {
        "colab": {
          "base_uri": "https://localhost:8080/"
        },
        "id": "0571451f",
        "outputId": "36e1d548-0914-4c80-a799-5a3c7fc6d6a9"
      },
      "outputs": [
        {
          "output_type": "stream",
          "name": "stdout",
          "text": [
            "48\n"
          ]
        }
      ],
      "source": [
        "import sys\n",
        "a=range(2000)\n",
        "print(sys.getsizeof(a))\n"
      ]
    },
    {
      "cell_type": "code",
      "execution_count": 3,
      "id": "d9002dc0",
      "metadata": {
        "colab": {
          "base_uri": "https://localhost:8080/"
        },
        "id": "d9002dc0",
        "outputId": "eb230b10-12d5-45cf-fc61-3055f606776c"
      },
      "outputs": [
        {
          "output_type": "stream",
          "name": "stdout",
          "text": [
            "96000\n"
          ]
        }
      ],
      "source": [
        "import sys\n",
        "a=range(2000)\n",
        "print(sys.getsizeof(a)*len(a))"
      ]
    },
    {
      "cell_type": "code",
      "execution_count": 4,
      "id": "f76530a5",
      "metadata": {
        "colab": {
          "base_uri": "https://localhost:8080/"
        },
        "id": "f76530a5",
        "outputId": "b2b3d99d-443b-4999-84a0-3b577ad85ff5"
      },
      "outputs": [
        {
          "output_type": "stream",
          "name": "stdout",
          "text": [
            "8\n",
            "8000\n"
          ]
        }
      ],
      "source": [
        "d=np.arange(1000)\n",
        "print(d.itemsize)\n",
        "print(d.size*d.itemsize)"
      ]
    },
    {
      "cell_type": "code",
      "execution_count": 5,
      "id": "1e73703e",
      "metadata": {
        "colab": {
          "base_uri": "https://localhost:8080/"
        },
        "id": "1e73703e",
        "outputId": "1121c555-5b3c-45fb-a0a8-fb8ff55070d4"
      },
      "outputs": [
        {
          "output_type": "stream",
          "name": "stdout",
          "text": [
            "42\n"
          ]
        }
      ],
      "source": [
        "b=np.array(42)\n",
        "print(b)"
      ]
    },
    {
      "cell_type": "code",
      "execution_count": 6,
      "id": "104492d3",
      "metadata": {
        "colab": {
          "base_uri": "https://localhost:8080/"
        },
        "id": "104492d3",
        "outputId": "ff255e44-1f1b-4cc7-b402-7b1ba8228c27"
      },
      "outputs": [
        {
          "output_type": "stream",
          "name": "stdout",
          "text": [
            "[[1 2 3]\n",
            " [4 5 6]]\n"
          ]
        }
      ],
      "source": [
        "arr=np.array([[1,2,3],[4,5,6]])\n",
        "print(arr)"
      ]
    },
    {
      "cell_type": "code",
      "execution_count": 7,
      "id": "a1132fc4",
      "metadata": {
        "colab": {
          "base_uri": "https://localhost:8080/"
        },
        "id": "a1132fc4",
        "outputId": "0576c8b8-9b63-4d28-8b90-a5050b916074"
      },
      "outputs": [
        {
          "output_type": "stream",
          "name": "stdout",
          "text": [
            "[[1 2 3]\n",
            " [4 5 6]\n",
            " [7 8 9]]\n"
          ]
        }
      ],
      "source": [
        "arr=np.array([[1,2,3],[4,5,6],[7,8,9]])\n",
        "print(arr)"
      ]
    },
    {
      "cell_type": "code",
      "execution_count": 8,
      "id": "04a08cdd",
      "metadata": {
        "colab": {
          "base_uri": "https://localhost:8080/"
        },
        "id": "04a08cdd",
        "outputId": "2becf9e3-2f4e-471b-e714-4df11196da42"
      },
      "outputs": [
        {
          "output_type": "stream",
          "name": "stdout",
          "text": [
            "[[[1 2 3]\n",
            "  [4 5 6]]\n",
            "\n",
            " [[4 5 6]\n",
            "  [7 8 9]]]\n"
          ]
        }
      ],
      "source": [
        "arr=np.array([[[1,2,3],[4,5,6]],[[4,5,6],[7,8,9]]])\n",
        "print(arr)"
      ]
    },
    {
      "cell_type": "code",
      "execution_count": 9,
      "id": "2697ed44",
      "metadata": {
        "colab": {
          "base_uri": "https://localhost:8080/"
        },
        "id": "2697ed44",
        "outputId": "a7e3068a-6345-4a2c-b6b7-05e2d7f0a85e"
      },
      "outputs": [
        {
          "output_type": "stream",
          "name": "stdout",
          "text": [
            "[[0. 0.]\n",
            " [0. 0.]\n",
            " [0. 0.]\n",
            " [0. 0.]\n",
            " [0. 0.]]\n",
            "float64\n"
          ]
        }
      ],
      "source": [
        "zeros_arr=np.zeros((5,2))\n",
        "print(zeros_arr)\n",
        "print(zeros_arr.dtype)"
      ]
    },
    {
      "cell_type": "code",
      "execution_count": 10,
      "id": "1087eb8b",
      "metadata": {
        "colab": {
          "base_uri": "https://localhost:8080/"
        },
        "id": "1087eb8b",
        "outputId": "ce22a3e7-bfa0-413d-fcba-20abb16d90d5"
      },
      "outputs": [
        {
          "output_type": "stream",
          "name": "stdout",
          "text": [
            "[[0 0 0]\n",
            " [0 0 0]\n",
            " [0 0 0]]\n",
            "int32\n"
          ]
        }
      ],
      "source": [
        "ze=np.zeros((3,3), dtype=np.int32)\n",
        "#dtype=np.int32\n",
        "print(ze)\n",
        "print(ze.dtype)"
      ]
    },
    {
      "cell_type": "code",
      "execution_count": 11,
      "id": "0ecc2b88",
      "metadata": {
        "colab": {
          "base_uri": "https://localhost:8080/"
        },
        "id": "0ecc2b88",
        "outputId": "c783a375-9b00-45e1-caea-e5df3bf3dddc"
      },
      "outputs": [
        {
          "output_type": "stream",
          "name": "stdout",
          "text": [
            "[[1 1 1 1 1 1]\n",
            " [1 1 1 1 1 1]\n",
            " [1 1 1 1 1 1]\n",
            " [1 1 1 1 1 1]\n",
            " [1 1 1 1 1 1]\n",
            " [1 1 1 1 1 1]]\n",
            "int64\n"
          ]
        }
      ],
      "source": [
        "one=np.ones((6,6), dtype=np.int64)\n",
        "print(one)\n",
        "print(one.dtype)"
      ]
    },
    {
      "cell_type": "code",
      "execution_count": 12,
      "id": "989617d6",
      "metadata": {
        "colab": {
          "base_uri": "https://localhost:8080/"
        },
        "id": "989617d6",
        "outputId": "3a5714aa-3edc-4f8b-d1b2-ba7d94424352"
      },
      "outputs": [
        {
          "output_type": "stream",
          "name": "stdout",
          "text": [
            "[[1.58763320e-315 0.00000000e+000]\n",
            " [6.51877107e-310 2.57026842e+151]]\n",
            "float64\n"
          ]
        }
      ],
      "source": [
        "e=np.empty((2,2))\n",
        "print(e)\n",
        "print(e.dtype)"
      ]
    },
    {
      "cell_type": "code",
      "execution_count": 13,
      "id": "9f49055e",
      "metadata": {
        "colab": {
          "base_uri": "https://localhost:8080/"
        },
        "id": "9f49055e",
        "outputId": "957afa43-ed31-40be-af0f-9cb679ce9f2b"
      },
      "outputs": [
        {
          "output_type": "stream",
          "name": "stdout",
          "text": [
            "[[1. 0. 0. 0.]\n",
            " [0. 1. 0. 0.]\n",
            " [0. 0. 1. 0.]\n",
            " [0. 0. 0. 1.]]\n"
          ]
        }
      ],
      "source": [
        "e=np.eye(4)\n",
        "print(e)"
      ]
    },
    {
      "cell_type": "code",
      "execution_count": 14,
      "id": "b5db4465",
      "metadata": {
        "colab": {
          "base_uri": "https://localhost:8080/"
        },
        "id": "b5db4465",
        "outputId": "6142bf3e-3724-4e23-d457-780b198be036"
      },
      "outputs": [
        {
          "output_type": "stream",
          "name": "stdout",
          "text": [
            "int64\n",
            "[1 2 3]\n"
          ]
        }
      ],
      "source": [
        "e=np.array([1,2,3] , dtype=np.int64)\n",
        "print(e.dtype)\n",
        "print(e)"
      ]
    },
    {
      "cell_type": "code",
      "execution_count": 15,
      "id": "2dc15f70",
      "metadata": {
        "colab": {
          "base_uri": "https://localhost:8080/"
        },
        "id": "2dc15f70",
        "outputId": "eee7c843-d724-469b-9f6e-791154012643"
      },
      "outputs": [
        {
          "output_type": "stream",
          "name": "stdout",
          "text": [
            "Before converting int64\n",
            "After converting float32\n"
          ]
        }
      ],
      "source": [
        "e=np.array([2,3,4])\n",
        "print(\"Before converting\",e.dtype)\n",
        "a=e.astype('f')\n",
        "print(\"After converting\",a.dtype)"
      ]
    },
    {
      "cell_type": "code",
      "execution_count": 16,
      "id": "bd066727",
      "metadata": {
        "colab": {
          "base_uri": "https://localhost:8080/"
        },
        "id": "bd066727",
        "outputId": "ce0eaee7-3e9b-4568-9213-9c29b876a5dd"
      },
      "outputs": [
        {
          "output_type": "stream",
          "name": "stdout",
          "text": [
            "[0 1 2 3 4 5 6 7 8 9]\n",
            "[ 1.23220236 -0.69963747  0.42023718  1.05622189]\n",
            "[0. 1. 2. 3. 4. 5. 6. 7. 8. 9.]\n"
          ]
        }
      ],
      "source": [
        "e=np.arange(10)\n",
        "a=np.random.randn(4)\n",
        "c=e.astype(a.dtype)\n",
        "print(e)\n",
        "print(a)\n",
        "print(c)"
      ]
    },
    {
      "cell_type": "code",
      "execution_count": 17,
      "id": "2487dd87",
      "metadata": {
        "colab": {
          "base_uri": "https://localhost:8080/"
        },
        "id": "2487dd87",
        "outputId": "e21676a0-e0a8-4b6d-870f-8e636e908a47"
      },
      "outputs": [
        {
          "output_type": "stream",
          "name": "stdout",
          "text": [
            "['hello' 'inte' 'floate']\n"
          ]
        }
      ],
      "source": [
        "a=np.array(['hello','inte','floate'])\n",
        "print(a)"
      ]
    },
    {
      "cell_type": "code",
      "execution_count": 18,
      "id": "68effc11",
      "metadata": {
        "colab": {
          "base_uri": "https://localhost:8080/"
        },
        "id": "68effc11",
        "outputId": "c255c902-31d5-42a1-9c79-0519b07b1c74"
      },
      "outputs": [
        {
          "output_type": "stream",
          "name": "stdout",
          "text": [
            "[ 0  2  4  6  8 10 12 14 16]\n"
          ]
        }
      ],
      "source": [
        "a=np.arange(9)\n",
        "b=np.arange(9)\n",
        "print(a+b)"
      ]
    },
    {
      "cell_type": "code",
      "execution_count": 19,
      "id": "6434e461",
      "metadata": {
        "colab": {
          "base_uri": "https://localhost:8080/"
        },
        "id": "6434e461",
        "outputId": "776adf70-242c-4a53-d6d9-3d69a2895d85"
      },
      "outputs": [
        {
          "output_type": "stream",
          "name": "stdout",
          "text": [
            "[ 3  5 11 13 12 10]\n",
            "[-1 -1 -5 -5 -2  2]\n",
            "[ 2  6 24 36 35 24]\n",
            "[0.5        0.66666667 0.375      0.44444444 0.71428571 1.5       ]\n"
          ]
        }
      ],
      "source": [
        "a=np.array([1,2,3,4,5,6])\n",
        "b=np.array([2,3,8,9,7,4])\n",
        "print(a+b)\n",
        "print(a-b)\n",
        "print(a*b)\n",
        "print(a/b)"
      ]
    },
    {
      "cell_type": "code",
      "execution_count": 20,
      "id": "564a5898",
      "metadata": {
        "colab": {
          "base_uri": "https://localhost:8080/"
        },
        "id": "564a5898",
        "outputId": "75c1c62a-5b2b-4b67-ad05-cb6091c1faea"
      },
      "outputs": [
        {
          "output_type": "stream",
          "name": "stdout",
          "text": [
            "[[ 0  1  2  3]\n",
            " [ 4  5  6  7]\n",
            " [ 8  9 10 11]\n",
            " [12 13 14 15]]\n"
          ]
        }
      ],
      "source": [
        "a=np.arange(16)\n",
        "b=a.reshape(4,4)\n",
        "print(b)"
      ]
    },
    {
      "cell_type": "code",
      "execution_count": 21,
      "id": "67d2c87b",
      "metadata": {
        "colab": {
          "base_uri": "https://localhost:8080/"
        },
        "id": "67d2c87b",
        "outputId": "8d3d8ba3-f9e5-440c-a1d0-be79bad97b3d"
      },
      "outputs": [
        {
          "output_type": "stream",
          "name": "stdout",
          "text": [
            "[[ 0  3  6  9]\n",
            " [ 1  4  7 10]\n",
            " [ 2  5  8 11]]\n"
          ]
        }
      ],
      "source": [
        "a=np.arange(12)\n",
        "b=a.reshape((3,4),order='F')\n",
        "print(b)"
      ]
    },
    {
      "cell_type": "code",
      "execution_count": 22,
      "id": "5ebf61a6",
      "metadata": {
        "colab": {
          "base_uri": "https://localhost:8080/"
        },
        "id": "5ebf61a6",
        "outputId": "01d3642b-9c31-4183-ad65-3490898d5af7"
      },
      "outputs": [
        {
          "output_type": "stream",
          "name": "stdout",
          "text": [
            "[[[1 2]\n",
            "  [3 4]]\n",
            "\n",
            " [[4 5]\n",
            "  [6 7]]\n",
            "\n",
            " [[7 8]\n",
            "  [9 4]]]\n",
            "[[1 2 3]\n",
            " [4 4 5]\n",
            " [6 7 7]\n",
            " [8 9 4]]\n"
          ]
        }
      ],
      "source": [
        "a=np.array([[1,2,3,4],[4,5,6,7],[7,8,9,4]])\n",
        "b=a.reshape(3,2,2)\n",
        "v=a.reshape(4,-1)\n",
        "print(b)\n",
        "print(v)"
      ]
    },
    {
      "cell_type": "code",
      "execution_count": 23,
      "id": "9c4bd184",
      "metadata": {
        "colab": {
          "base_uri": "https://localhost:8080/"
        },
        "id": "9c4bd184",
        "outputId": "d429c0f6-4d3c-48fc-c838-c93829d6368c"
      },
      "outputs": [
        {
          "output_type": "stream",
          "name": "stdout",
          "text": [
            "[1 2 3 4]\n",
            "[588   2   3   4]\n"
          ]
        }
      ],
      "source": [
        "a=np.array([1,2,3,4])\n",
        "b=a.flatten()\n",
        "b[0]=588\n",
        "print(a)\n",
        "print(b)"
      ]
    },
    {
      "cell_type": "code",
      "execution_count": 24,
      "id": "22d132a4",
      "metadata": {
        "colab": {
          "base_uri": "https://localhost:8080/"
        },
        "id": "22d132a4",
        "outputId": "7875445f-9680-4e86-aac0-b5a30c4144a3"
      },
      "outputs": [
        {
          "output_type": "stream",
          "name": "stdout",
          "text": [
            "[  1   2 256   4]\n",
            "[  1   2 256   4]\n"
          ]
        }
      ],
      "source": [
        "a=np.array([1,2,3,4])\n",
        "b=a.ravel()\n",
        "b[2]=256\n",
        "print(b)\n",
        "print(a)"
      ]
    },
    {
      "cell_type": "code",
      "execution_count": 25,
      "id": "9efb6f36",
      "metadata": {
        "colab": {
          "base_uri": "https://localhost:8080/"
        },
        "id": "9efb6f36",
        "outputId": "e3c33b11-41b4-49c5-c8ed-e7af8c8f9346"
      },
      "outputs": [
        {
          "output_type": "stream",
          "name": "stdout",
          "text": [
            "[[False False False]\n",
            " [False False False]]\n",
            "[[ True False  True]\n",
            " [ True  True  True]]\n",
            "[[False  True False]\n",
            " [False False False]]\n"
          ]
        }
      ],
      "source": [
        "a=np.array([[1,2,3],[4,5,6]])\n",
        "b=np.array([[4,2,8],[6,8,7]])\n",
        "c=a>b\n",
        "d=a<b\n",
        "e=a==b\n",
        "print(c)\n",
        "print(d)\n",
        "print(e)"
      ]
    },
    {
      "cell_type": "code",
      "execution_count": 26,
      "id": "31a81af4",
      "metadata": {
        "colab": {
          "base_uri": "https://localhost:8080/"
        },
        "id": "31a81af4",
        "outputId": "92047e24-ffec-4d40-8986-5f452ff1b499"
      },
      "outputs": [
        {
          "output_type": "stream",
          "name": "stdout",
          "text": [
            "True\n"
          ]
        }
      ],
      "source": [
        "a=np.array([1,2,3])\n",
        "b=np.array([1,2,3])\n",
        "c=np.array_equal(a,b)\n",
        "print(c)"
      ]
    },
    {
      "cell_type": "code",
      "execution_count": 27,
      "id": "2f57b642",
      "metadata": {
        "colab": {
          "base_uri": "https://localhost:8080/"
        },
        "id": "2f57b642",
        "outputId": "92b59ff7-bd3c-41df-a95a-2a7362efce5f"
      },
      "outputs": [
        {
          "output_type": "stream",
          "name": "stdout",
          "text": [
            "[4 5]\n",
            "[1 2 3]\n",
            "[5 4 3 2 1]\n",
            "[2]\n",
            "[2]\n",
            "[1 2 3 4 5]\n"
          ]
        }
      ],
      "source": [
        "x=np.array([1,2,3,4,5])\n",
        "print(x[3:])\n",
        "print(x[:3])\n",
        "print(x[::-1])\n",
        "print(x[1::4])\n",
        "print(x[1::-3])\n",
        "print(x)"
      ]
    },
    {
      "cell_type": "code",
      "execution_count": 28,
      "id": "bb04eea0",
      "metadata": {
        "colab": {
          "base_uri": "https://localhost:8080/"
        },
        "id": "bb04eea0",
        "outputId": "d1eec233-d3bb-449c-8450-6d5994722393"
      },
      "outputs": [
        {
          "output_type": "stream",
          "name": "stdout",
          "text": [
            "[2 3 4 5]\n"
          ]
        }
      ],
      "source": [
        "#indexing\n",
        "a=np.array([[1,2,3,4],[2,3,4,5],[2,3,4,5]])\n",
        "print(a[1])"
      ]
    },
    {
      "cell_type": "code",
      "source": [
        "a=np.array([[1,2,3,4],[2,3,4,5],[2,3,4,5]])\n",
        "print(a[2,0])"
      ],
      "metadata": {
        "colab": {
          "base_uri": "https://localhost:8080/"
        },
        "id": "CWqkwMY1V5Dz",
        "outputId": "1ea8f813-63bc-47b8-b6d2-adf1b268ec66"
      },
      "id": "CWqkwMY1V5Dz",
      "execution_count": 29,
      "outputs": [
        {
          "output_type": "stream",
          "name": "stdout",
          "text": [
            "2\n"
          ]
        }
      ]
    },
    {
      "cell_type": "code",
      "source": [
        "#slicing\n",
        "a=np.array([[12,3,4,4],[1,2,3,4],[15,16,4,8]])\n",
        "print(a)\n",
        "print(a[:3,:4])\n",
        "print(a[4:])\n",
        "print(a[::-1,::-1])\n",
        "print(a[::-1])"
      ],
      "metadata": {
        "colab": {
          "base_uri": "https://localhost:8080/"
        },
        "id": "D6FgjvOAWC7E",
        "outputId": "dd6d5425-3326-43c0-f397-93af1d78bd43"
      },
      "id": "D6FgjvOAWC7E",
      "execution_count": 30,
      "outputs": [
        {
          "output_type": "stream",
          "name": "stdout",
          "text": [
            "[[12  3  4  4]\n",
            " [ 1  2  3  4]\n",
            " [15 16  4  8]]\n",
            "[[12  3  4  4]\n",
            " [ 1  2  3  4]\n",
            " [15 16  4  8]]\n",
            "[]\n",
            "[[ 8  4 16 15]\n",
            " [ 4  3  2  1]\n",
            " [ 4  4  3 12]]\n",
            "[[15 16  4  8]\n",
            " [ 1  2  3  4]\n",
            " [12  3  4  4]]\n"
          ]
        }
      ]
    },
    {
      "cell_type": "code",
      "source": [
        "#booleanindexing\n",
        "a=np.arange(12).reshape(4,3)\n",
        "print(a)\n",
        "b=a>3\n",
        "print(b)\n",
        "print(a[b])"
      ],
      "metadata": {
        "colab": {
          "base_uri": "https://localhost:8080/"
        },
        "id": "aFASVPM5W5jD",
        "outputId": "99ec42dc-1e63-4c73-f88c-75652dcf4533"
      },
      "id": "aFASVPM5W5jD",
      "execution_count": 31,
      "outputs": [
        {
          "output_type": "stream",
          "name": "stdout",
          "text": [
            "[[ 0  1  2]\n",
            " [ 3  4  5]\n",
            " [ 6  7  8]\n",
            " [ 9 10 11]]\n",
            "[[False False False]\n",
            " [False  True  True]\n",
            " [ True  True  True]\n",
            " [ True  True  True]]\n",
            "[ 4  5  6  7  8  9 10 11]\n"
          ]
        }
      ]
    },
    {
      "cell_type": "code",
      "source": [
        "a=np.array(['HARISH','JOE','BHARATHI','JOE','JOE','SWETASRI'])\n",
        "d=np.arange(12).reshape(3,4)\n",
        "print(a)\n",
        "print(a=='HARISH')\n",
        "print(a=='JOE')\n",
        "\n",
        "\n"
      ],
      "metadata": {
        "colab": {
          "base_uri": "https://localhost:8080/"
        },
        "id": "g5KSkz7iXS6X",
        "outputId": "0fc2abc1-5c05-44b8-a106-a632e0d39df2"
      },
      "id": "g5KSkz7iXS6X",
      "execution_count": 43,
      "outputs": [
        {
          "output_type": "stream",
          "name": "stdout",
          "text": [
            "['HARISH' 'JOE' 'BHARATHI' 'JOE' 'JOE' 'SWETASRI']\n",
            "[ True False False False False False]\n",
            "[False  True False  True  True False]\n"
          ]
        }
      ]
    },
    {
      "cell_type": "code",
      "source": [
        "a=np.arange(32).reshape(8,4)\n",
        "print(a)\n",
        "print(a[[1,5,7,2]])\n",
        "print(a[[1,5,7,2],[0,3,1,2]])"
      ],
      "metadata": {
        "colab": {
          "base_uri": "https://localhost:8080/"
        },
        "id": "rBUSSVi-XQ8r",
        "outputId": "5e61d6c7-6753-4ac5-fdaf-1035f244623d"
      },
      "id": "rBUSSVi-XQ8r",
      "execution_count": 45,
      "outputs": [
        {
          "output_type": "stream",
          "name": "stdout",
          "text": [
            "[[ 0  1  2  3]\n",
            " [ 4  5  6  7]\n",
            " [ 8  9 10 11]\n",
            " [12 13 14 15]\n",
            " [16 17 18 19]\n",
            " [20 21 22 23]\n",
            " [24 25 26 27]\n",
            " [28 29 30 31]]\n",
            "[[ 4  5  6  7]\n",
            " [20 21 22 23]\n",
            " [28 29 30 31]\n",
            " [ 8  9 10 11]]\n",
            "[ 4 23 29 10]\n"
          ]
        }
      ]
    },
    {
      "cell_type": "code",
      "source": [
        "a=np.arange(12).reshape((3,4))\n",
        "print(a.T)"
      ],
      "metadata": {
        "colab": {
          "base_uri": "https://localhost:8080/"
        },
        "id": "wq50a86_d4pW",
        "outputId": "62c9e887-bf7d-487d-c4ab-947306b22c7d"
      },
      "id": "wq50a86_d4pW",
      "execution_count": 46,
      "outputs": [
        {
          "output_type": "stream",
          "name": "stdout",
          "text": [
            "[[ 0  4  8]\n",
            " [ 1  5  9]\n",
            " [ 2  6 10]\n",
            " [ 3  7 11]]\n"
          ]
        }
      ]
    },
    {
      "cell_type": "code",
      "source": [
        "a=np.arange(12).reshape((3,4))\n",
        "print(np.transpose(a))"
      ],
      "metadata": {
        "colab": {
          "base_uri": "https://localhost:8080/"
        },
        "id": "fGLCtGcke4Pd",
        "outputId": "0870fd73-b37a-42f5-cdcf-9eabb02e6732"
      },
      "id": "fGLCtGcke4Pd",
      "execution_count": 47,
      "outputs": [
        {
          "output_type": "stream",
          "name": "stdout",
          "text": [
            "[[ 0  4  8]\n",
            " [ 1  5  9]\n",
            " [ 2  6 10]\n",
            " [ 3  7 11]]\n"
          ]
        }
      ]
    },
    {
      "cell_type": "code",
      "source": [
        "a=np.arange(12).reshape((3,4))\n",
        "print(np.dot(a,a.T))"
      ],
      "metadata": {
        "colab": {
          "base_uri": "https://localhost:8080/"
        },
        "id": "Bv_rDcxYfBmF",
        "outputId": "ab102762-5c4d-42a1-bf24-b84503b853fe"
      },
      "id": "Bv_rDcxYfBmF",
      "execution_count": 48,
      "outputs": [
        {
          "output_type": "stream",
          "name": "stdout",
          "text": [
            "[[ 14  38  62]\n",
            " [ 38 126 214]\n",
            " [ 62 214 366]]\n"
          ]
        }
      ]
    },
    {
      "cell_type": "code",
      "source": [
        "a=np.arange(12).reshape((3,4))\n",
        "print(np.swapaxes(a,0,1))"
      ],
      "metadata": {
        "colab": {
          "base_uri": "https://localhost:8080/"
        },
        "id": "HN8sQZSnfTNl",
        "outputId": "3663e6e0-bece-445c-c090-0f469881a0d6"
      },
      "id": "HN8sQZSnfTNl",
      "execution_count": 49,
      "outputs": [
        {
          "output_type": "stream",
          "name": "stdout",
          "text": [
            "[[ 0  4  8]\n",
            " [ 1  5  9]\n",
            " [ 2  6 10]\n",
            " [ 3  7 11]]\n"
          ]
        }
      ]
    },
    {
      "cell_type": "code",
      "source": [
        "a1=np.array([[1,2],[2,4]])\n",
        "a2=np.array([[1,2],[2,4]])\n",
        "r=np.multiply(a1,a2)\n",
        "print(r)"
      ],
      "metadata": {
        "colab": {
          "base_uri": "https://localhost:8080/"
        },
        "id": "nN9al_vmhaoG",
        "outputId": "4f9a64a8-2eab-4405-f20c-ab12c956ee71"
      },
      "id": "nN9al_vmhaoG",
      "execution_count": 50,
      "outputs": [
        {
          "output_type": "stream",
          "name": "stdout",
          "text": [
            "[[ 1  4]\n",
            " [ 4 16]]\n"
          ]
        }
      ]
    },
    {
      "cell_type": "code",
      "source": [
        "a1=np.array([[1,2],[2,4]])\n",
        "a2=np.array([[1,2],[2,4]])\n",
        "r=np.matmul(a1,a2)\n",
        "print(r)"
      ],
      "metadata": {
        "colab": {
          "base_uri": "https://localhost:8080/"
        },
        "id": "K5-nvqdshsqG",
        "outputId": "3ec34e7c-9e50-4386-c3b2-07aa515d698a"
      },
      "id": "K5-nvqdshsqG",
      "execution_count": 51,
      "outputs": [
        {
          "output_type": "stream",
          "name": "stdout",
          "text": [
            "[[ 5 10]\n",
            " [10 20]]\n"
          ]
        }
      ]
    },
    {
      "cell_type": "code",
      "source": [
        "a1=np.array([[1,2],[2,4]])\n",
        "a2=np.array([[1,2],[2,4]])\n",
        "r=np.dot(a1,a2)\n",
        "print(r)"
      ],
      "metadata": {
        "colab": {
          "base_uri": "https://localhost:8080/"
        },
        "id": "1LZyxJHXh2oG",
        "outputId": "475783c6-d57e-441f-e1cb-c9b77d4ce70b"
      },
      "id": "1LZyxJHXh2oG",
      "execution_count": 52,
      "outputs": [
        {
          "output_type": "stream",
          "name": "stdout",
          "text": [
            "[[ 5 10]\n",
            " [10 20]]\n"
          ]
        }
      ]
    },
    {
      "cell_type": "code",
      "source": [
        "#completed"
      ],
      "metadata": {
        "id": "U3yFrduWiDMO"
      },
      "id": "U3yFrduWiDMO",
      "execution_count": null,
      "outputs": []
    }
  ],
  "metadata": {
    "kernelspec": {
      "display_name": "Python 3 (ipykernel)",
      "language": "python",
      "name": "python3"
    },
    "language_info": {
      "codemirror_mode": {
        "name": "ipython",
        "version": 3
      },
      "file_extension": ".py",
      "mimetype": "text/x-python",
      "name": "python",
      "nbconvert_exporter": "python",
      "pygments_lexer": "ipython3",
      "version": "3.9.12"
    },
    "colab": {
      "provenance": []
    }
  },
  "nbformat": 4,
  "nbformat_minor": 5
}