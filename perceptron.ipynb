{
  "nbformat": 4,
  "nbformat_minor": 0,
  "metadata": {
    "colab": {
      "provenance": [],
      "authorship_tag": "ABX9TyNKX0posZp7FTVRPeQEgy6i",
      "include_colab_link": true
    },
    "kernelspec": {
      "name": "python3",
      "display_name": "Python 3"
    },
    "language_info": {
      "name": "python"
    }
  },
  "cells": [
    {
      "cell_type": "markdown",
      "metadata": {
        "id": "view-in-github",
        "colab_type": "text"
      },
      "source": [
        "<a href=\"https://colab.research.google.com/github/harish0624/MACHINE-LEARNING/blob/main/perceptron.ipynb\" target=\"_parent\"><img src=\"https://colab.research.google.com/assets/colab-badge.svg\" alt=\"Open In Colab\"/></a>"
      ]
    },
    {
      "cell_type": "code",
      "execution_count": 3,
      "metadata": {
        "colab": {
          "base_uri": "https://localhost:8080/"
        },
        "id": "BE8J80Hh6oLa",
        "outputId": "cccf918a-6a7e-400c-f553-d7edfd95b736"
      },
      "outputs": [
        {
          "output_type": "stream",
          "name": "stdout",
          "text": [
            "[0 0] -> 0\n",
            "[0 1] -> 0\n",
            "[1 0] -> 0\n",
            "[1 1] -> 1\n",
            "Final weights: [0.3 0.4] Bias: -0.6000000000000001\n"
          ]
        }
      ],
      "source": [
        "import numpy as np\n",
        "X = np.array([[0,0],[0,1],[1,0],[1,1]])\n",
        "Y = np.array([0,0,0,1])\n",
        "w = np.array([0.3, -0.2])\n",
        "b = -0.4\n",
        "eta = 0.2\n",
        "max_epochs=100\n",
        "for _ in range(max_epochs):\n",
        "      errors = 0\n",
        "      for xi, target in zip(X, Y):\n",
        "          net = np.dot(w, xi) + b\n",
        "          out = 1 if net >= 0 else 0\n",
        "          err = target - out\n",
        "          if err != 0:\n",
        "            w += eta * err * xi\n",
        "            b += eta * err\n",
        "            errors += 1\n",
        "      if errors == 0:\n",
        "         break\n",
        "for xi in X:\n",
        "      out = 1 if np.dot(w, xi) + b >= 0 else 0\n",
        "      print(xi, \"->\", out)\n",
        "\n",
        "print(\"Final weights:\", w, \"Bias:\", b)"
      ]
    }
  ]
}