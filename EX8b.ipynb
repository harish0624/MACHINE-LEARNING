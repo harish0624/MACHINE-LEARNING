{
  "nbformat": 4,
  "nbformat_minor": 0,
  "metadata": {
    "colab": {
      "provenance": [],
      "include_colab_link": true
    },
    "kernelspec": {
      "name": "python3",
      "display_name": "Python 3"
    },
    "language_info": {
      "name": "python"
    }
  },
  "cells": [
    {
      "cell_type": "markdown",
      "metadata": {
        "id": "view-in-github",
        "colab_type": "text"
      },
      "source": [
        "<a href=\"https://colab.research.google.com/github/harish0624/MACHINE-LEARNING/blob/main/EX8b.ipynb\" target=\"_parent\"><img src=\"https://colab.research.google.com/assets/colab-badge.svg\" alt=\"Open In Colab\"/></a>"
      ]
    },
    {
      "cell_type": "code",
      "execution_count": null,
      "metadata": {
        "id": "TsgRkDjH_w8F"
      },
      "outputs": [],
      "source": [
        "import numpy as np\n",
        "import matplotlib.pyplot as plt\n",
        "from sklearn.datasets import load_breast_cancer\n",
        "from sklearn.model_selection import train_test_split\n",
        "from sklearn.preprocessing import StandardScaler\n",
        "from sklearn.tree import DecisionTreeRegressor\n",
        "from sklearn.metrics import (\n",
        "    accuracy_score, precision_score, recall_score, f1_score,\n",
        "        roc_auc_score, roc_curve, confusion_matrix, classification_report\n",
        "        )\n"
      ]
    },
    {
      "cell_type": "code",
      "source": [
        "data = load_breast_cancer()\n",
        "X, y = data.data, data.target"
      ],
      "metadata": {
        "id": "h-GPNAeP_7Ok"
      },
      "execution_count": null,
      "outputs": []
    },
    {
      "cell_type": "code",
      "source": [
        "X_train, X_test, y_train, y_test = train_test_split(\n",
        "      X, y, test_size=0.2, random_state=42, stratify=y\n",
        "      )\n",
        "\n"
      ],
      "metadata": {
        "id": "tz2d-jlLAKS4"
      },
      "execution_count": null,
      "outputs": []
    },
    {
      "cell_type": "code",
      "source": [
        "scaler = StandardScaler()\n",
        "X_train = scaler.fit_transform(X_train)\n",
        "X_test = scaler.transform(X_test)\n"
      ],
      "metadata": {
        "id": "1DJsGqy7AEC3"
      },
      "execution_count": null,
      "outputs": []
    },
    {
      "cell_type": "code",
      "source": [
        "y_pred_train = np.full(y_train.shape, np.mean(y_train))\n",
        "y_pred_test = np.full(y_test.shape, np.mean(y_train))\n"
      ],
      "metadata": {
        "id": "nnBgydhQAO6L"
      },
      "execution_count": null,
      "outputs": []
    },
    {
      "cell_type": "code",
      "source": [
        "n_estimators = 100\n",
        "learning_rate = 0.1\n"
      ],
      "metadata": {
        "id": "R4GOhxMGAQmZ"
      },
      "execution_count": null,
      "outputs": []
    },
    {
      "cell_type": "code",
      "source": [
        "for i in range(n_estimators):\n",
        "    residuals = y_train - y_pred_train\n",
        "\n",
        "    tree = DecisionTreeRegressor(max_depth=3, random_state=42)\n",
        "    tree.fit(X_train, residuals)\n",
        "\n",
        "    update = tree.predict(X_train)\n",
        "    update_test = tree.predict(X_test)\n",
        "\n",
        "    y_pred_train += learning_rate * update\n",
        "    y_pred_test += learning_rate * update_test\n",
        "\n",
        "    if (i + 1) % 10 == 0:\n",
        "        loss = np.mean((y_train - y_pred_train) ** 2)\n",
        "        print(f\"Iteration {i+1}/{n_estimators} - Training Loss: {loss:.4f}\")"
      ],
      "metadata": {
        "colab": {
          "base_uri": "https://localhost:8080/"
        },
        "id": "FPl6-dqaAVnV",
        "outputId": "2c2aa824-477d-4c60-c0ef-bf6f5c5a0c65"
      },
      "execution_count": null,
      "outputs": [
        {
          "output_type": "stream",
          "name": "stdout",
          "text": [
            "Iteration 10/100 - Training Loss: 0.0361\n",
            "Iteration 20/100 - Training Loss: 0.0122\n",
            "Iteration 30/100 - Training Loss: 0.0069\n",
            "Iteration 40/100 - Training Loss: 0.0041\n",
            "Iteration 50/100 - Training Loss: 0.0029\n",
            "Iteration 60/100 - Training Loss: 0.0023\n",
            "Iteration 70/100 - Training Loss: 0.0018\n",
            "Iteration 80/100 - Training Loss: 0.0015\n",
            "Iteration 90/100 - Training Loss: 0.0012\n",
            "Iteration 100/100 - Training Loss: 0.0010\n"
          ]
        }
      ]
    },
    {
      "cell_type": "code",
      "source": [
        " update = tree.predict(X_train)\n",
        " update_test = tree.predict(X_test)\n"
      ],
      "metadata": {
        "id": "dPvhWpxFAarU"
      },
      "execution_count": null,
      "outputs": []
    },
    {
      "cell_type": "code",
      "source": [
        "   y_pred_train += learning_rate * update\n",
        "   y_pred_test += learning_rate * update_test\n"
      ],
      "metadata": {
        "id": "19iHFhF7Ady6"
      },
      "execution_count": null,
      "outputs": []
    },
    {
      "cell_type": "code",
      "source": [
        " if (i + 1) % 10 == 0:\n",
        "    loss = np.mean((y_train - y_pred_train) ** 2)\n",
        "    print(f\"Iteration {i+1}/{n_estimators} - Training Loss: {loss:.4f}\")"
      ],
      "metadata": {
        "colab": {
          "base_uri": "https://localhost:8080/"
        },
        "id": "5eknPjxFAhEC",
        "outputId": "3273bea0-d551-4e59-cb2c-e5091f015424"
      },
      "execution_count": null,
      "outputs": [
        {
          "output_type": "stream",
          "name": "stdout",
          "text": [
            "Iteration 100/100 - Training Loss: 0.1934\n"
          ]
        }
      ]
    },
    {
      "cell_type": "code",
      "source": [
        "y_pred_binary = (y_pred_test >= 0.5).astype(int)\n"
      ],
      "metadata": {
        "id": "rM7GfqYoAqjn"
      },
      "execution_count": null,
      "outputs": []
    },
    {
      "cell_type": "code",
      "source": [
        "acc = accuracy_score(y_test, y_pred_binary)\n",
        "prec = precision_score(y_test, y_pred_binary)\n",
        "rec = recall_score(y_test, y_pred_binary)\n",
        "f1 = f1_score(y_test, y_pred_binary)\n",
        "roc_auc = roc_auc_score(y_test, y_pred_test)\n",
        "cm = confusion_matrix(y_test, y_pred_binary)\n"
      ],
      "metadata": {
        "id": "2oadTW2UAsrq"
      },
      "execution_count": null,
      "outputs": []
    },
    {
      "cell_type": "code",
      "source": [
        "print(\"\\n=== Model Evaluation ===\")\n",
        "print(f\"Accuracy:  {acc:.4f}\")\n",
        "print(f\"Precision: {prec:.4f}\")\n",
        "print(f\"Recall:    {rec:.4f}\")\n",
        "print(f\"F1 Score:  {f1:.4f}\")\n",
        "print(f\"ROC AUC:   {roc_auc:.4f}\")\n",
        "print(\"\\nConfusion Matrix:\\n\", cm)\n",
        "print(\"\\nClassification Report:\\n\", classification_report(y_test, y_pred_binary))\n"
      ],
      "metadata": {
        "colab": {
          "base_uri": "https://localhost:8080/"
        },
        "id": "YRpDEHE5AuWo",
        "outputId": "ab39f3fb-9836-43ca-ce06-135888c425c6"
      },
      "execution_count": null,
      "outputs": [
        {
          "output_type": "stream",
          "name": "stdout",
          "text": [
            "\n",
            "=== Model Evaluation ===\n",
            "Accuracy:  0.6316\n",
            "Precision: 0.6316\n",
            "Recall:    1.0000\n",
            "F1 Score:  0.7742\n",
            "ROC AUC:   0.9446\n",
            "\n",
            "Confusion Matrix:\n",
            " [[ 0 42]\n",
            " [ 0 72]]\n",
            "\n",
            "Classification Report:\n",
            "               precision    recall  f1-score   support\n",
            "\n",
            "           0       0.00      0.00      0.00        42\n",
            "           1       0.63      1.00      0.77        72\n",
            "\n",
            "    accuracy                           0.63       114\n",
            "   macro avg       0.32      0.50      0.39       114\n",
            "weighted avg       0.40      0.63      0.49       114\n",
            "\n"
          ]
        },
        {
          "output_type": "stream",
          "name": "stderr",
          "text": [
            "/usr/local/lib/python3.12/dist-packages/sklearn/metrics/_classification.py:1565: UndefinedMetricWarning: Precision is ill-defined and being set to 0.0 in labels with no predicted samples. Use `zero_division` parameter to control this behavior.\n",
            "  _warn_prf(average, modifier, f\"{metric.capitalize()} is\", len(result))\n",
            "/usr/local/lib/python3.12/dist-packages/sklearn/metrics/_classification.py:1565: UndefinedMetricWarning: Precision is ill-defined and being set to 0.0 in labels with no predicted samples. Use `zero_division` parameter to control this behavior.\n",
            "  _warn_prf(average, modifier, f\"{metric.capitalize()} is\", len(result))\n",
            "/usr/local/lib/python3.12/dist-packages/sklearn/metrics/_classification.py:1565: UndefinedMetricWarning: Precision is ill-defined and being set to 0.0 in labels with no predicted samples. Use `zero_division` parameter to control this behavior.\n",
            "  _warn_prf(average, modifier, f\"{metric.capitalize()} is\", len(result))\n"
          ]
        }
      ]
    },
    {
      "cell_type": "code",
      "source": [
        "fpr, tpr, thresholds = roc_curve(y_test, y_pred_test)\n",
        "plt.figure(figsize=(6, 5))\n",
        "plt.plot(fpr, tpr, label=f'ROC Curve (AUC = {roc_auc:.3f})')\n",
        "plt.plot([0, 1], [0, 1], 'k--', label='Random Guess')\n",
        "plt.xlabel(\"False Positive Rate\")\n",
        "plt.ylabel(\"True Positive Rate\")\n",
        "plt.title(\"ROC Curve - Gradient Boosting (Decision Tree Regressor)\")\n",
        "plt.legend()\n",
        "plt.grid(True)\n",
        "plt.show()"
      ],
      "metadata": {
        "colab": {
          "base_uri": "https://localhost:8080/",
          "height": 487
        },
        "id": "syD2lbqhA9-r",
        "outputId": "b855df58-4d7e-464b-d89f-d9918820bc4f"
      },
      "execution_count": null,
      "outputs": [
        {
          "output_type": "display_data",
          "data": {
            "text/plain": [
              "<Figure size 600x500 with 1 Axes>"
            ],
            "image/png": "[encoded data removed]"
          },
          "metadata": {}
        }
      ]
    }
  ]
}